{
  "nbformat": 4,
  "nbformat_minor": 0,
  "metadata": {
    "colab": {
      "provenance": [],
      "toc_visible": true
    },
    "kernelspec": {
      "name": "python3",
      "display_name": "Python 3"
    },
    "language_info": {
      "name": "python"
    }
  },
  "cells": [
    {
      "cell_type": "code",
      "execution_count": null,
      "metadata": {
        "id": "_ONmw8jn6Ujl"
      },
      "outputs": [],
      "source": []
    },
    {
      "cell_type": "markdown",
      "source": [
        "# **List**"
      ],
      "metadata": {
        "id": "l0mQWMbA6dSs"
      }
    },
    {
      "cell_type": "markdown",
      "source": [
        "# **Task 1: List**"
      ],
      "metadata": {
        "id": "YgdGesuq6pdT"
      }
    },
    {
      "cell_type": "code",
      "source": [
        "# Create the list of 10 integers\n",
        "numbers=[1, 10, 15, 12, 25, 35, 45, 55, 60, 65]\n",
        "print(numbers)\n",
        "\n",
        "# Find and print the sum, maximum, minimum\n",
        "\n",
        "print('Sum:',sum(numbers))\n",
        "print('Max:', max(numbers))\n",
        "print('min:',min(numbers))\n",
        "\n",
        "# Add and remove the element\n",
        "\n",
        "numbers.append(70)\n",
        "numbers.remove(25)\n",
        "print('Updated list:',numbers)\n",
        "\n",
        "# Sort ascending and descending\n",
        "numbers.sort()\n",
        "print('Ascending:', numbers)\n",
        "numbers.reverse()\n",
        "print('Descending:', numbers)\n"
      ],
      "metadata": {
        "colab": {
          "base_uri": "https://localhost:8080/"
        },
        "id": "5vT1oezF8D07",
        "outputId": "c8bec225-438a-43f7-b15f-990899140ef2"
      },
      "execution_count": 13,
      "outputs": [
        {
          "output_type": "stream",
          "name": "stdout",
          "text": [
            "[1, 10, 15, 12, 25, 35, 45, 55, 60, 65]\n",
            "Sum: 323\n",
            "Max: 65\n",
            "min: 1\n",
            "Updated list: [1, 10, 15, 12, 35, 45, 55, 60, 65, 70]\n",
            "Ascending: [1, 10, 12, 15, 35, 45, 55, 60, 65, 70]\n",
            "Descending: [70, 65, 60, 55, 45, 35, 15, 12, 10, 1]\n"
          ]
        }
      ]
    },
    {
      "cell_type": "markdown",
      "source": [
        "# **Task 2: Tuples**"
      ],
      "metadata": {
        "id": "Gu0_idS46yZT"
      }
    },
    {
      "cell_type": "code",
      "source": [
        "# Create a tuple\n",
        "fruits = ('apple','banana','watermelon','mango','grapes')\n",
        "print('Second element:', fruits[1])\n",
        "print('last element:', fruits[-1])\n",
        "\n",
        "# Cannot perform updations\n",
        "\n",
        "fruits_list=list(fruits)\n",
        "fruits_list.append('guava')\n",
        "print(fruits_list)"
      ],
      "metadata": {
        "colab": {
          "base_uri": "https://localhost:8080/"
        },
        "id": "h3Gl8ptI8E0T",
        "outputId": "3e679bb9-3660-40b5-def3-39e2d7d4a7e6"
      },
      "execution_count": 17,
      "outputs": [
        {
          "output_type": "stream",
          "name": "stdout",
          "text": [
            "Second element: banana\n",
            "last element: grapes\n",
            "['apple', 'banana', 'watermelon', 'mango', 'grapes', 'guava']\n"
          ]
        }
      ]
    },
    {
      "cell_type": "markdown",
      "source": [
        "# **Task 3: Sets**"
      ],
      "metadata": {
        "id": "1nwQJ4Ry7E1T"
      }
    },
    {
      "cell_type": "code",
      "source": [
        "A={1,2,3,4,5,}\n",
        "B={2,4,6,8,10,}\n",
        "print('Union:', A | B)\n",
        "print('Intersection:', A & B)\n",
        "print('Difference:', A - B)"
      ],
      "metadata": {
        "colab": {
          "base_uri": "https://localhost:8080/"
        },
        "id": "8lCwsl5q8Fs7",
        "outputId": "fcc3cd50-5879-4464-ac58-340276abb5cb"
      },
      "execution_count": 18,
      "outputs": [
        {
          "output_type": "stream",
          "name": "stdout",
          "text": [
            "Union: {1, 2, 3, 4, 5, 6, 8, 10}\n",
            "Intersection: {2, 4}\n",
            "Difference: {1, 3, 5}\n"
          ]
        }
      ]
    },
    {
      "cell_type": "markdown",
      "source": [
        "# **Task 4: Dictionary**"
      ],
      "metadata": {
        "id": "Ycol7N-K7Vgb"
      }
    },
    {
      "cell_type": "code",
      "source": [
        "# Create of distionary of friends and there marks\n",
        "friends={'shoaib': 98,'ismail': 99,'usman':80,'mohiz':85}\n",
        "\n",
        "# Print keys and values\n",
        "print('key:',friends.keys())\n",
        "print('values:',friends.values())\n",
        "\n",
        "# Update values\n",
        "friends['ismail']=100\n",
        "print(friends)\n"
      ],
      "metadata": {
        "colab": {
          "base_uri": "https://localhost:8080/"
        },
        "id": "TE88EOnd8GWr",
        "outputId": "8c7a8deb-4e1f-44ac-904f-bed706813fe2"
      },
      "execution_count": 19,
      "outputs": [
        {
          "output_type": "stream",
          "name": "stdout",
          "text": [
            "key: dict_keys(['shoaib', 'ismail', 'usman', 'mohiz'])\n",
            "values: dict_values([98, 99, 80, 85])\n",
            "{'shoaib': 98, 'ismail': 100, 'usman': 80, 'mohiz': 85}\n"
          ]
        }
      ]
    },
    {
      "cell_type": "markdown",
      "source": [
        "# **Task 5: Numpy**"
      ],
      "metadata": {
        "id": "0W1h7PXQ7Llb"
      }
    },
    {
      "cell_type": "code",
      "source": [],
      "metadata": {
        "id": "kQBSZsQB8HkT"
      },
      "execution_count": null,
      "outputs": []
    },
    {
      "cell_type": "markdown",
      "source": [
        "# **Task 6: Matplolibs**"
      ],
      "metadata": {
        "id": "6kVlp1e57sYM"
      }
    },
    {
      "cell_type": "code",
      "source": [],
      "metadata": {
        "id": "IXTMJyua8INr"
      },
      "execution_count": null,
      "outputs": []
    },
    {
      "cell_type": "markdown",
      "source": [],
      "metadata": {
        "id": "YBPQ0-p46rBj"
      }
    },
    {
      "cell_type": "markdown",
      "source": [],
      "metadata": {
        "id": "R9sJW0WU6j00"
      }
    }
  ]
}