{
  "nbformat": 4,
  "nbformat_minor": 0,
  "metadata": {
    "colab": {
      "provenance": [],
      "toc_visible": true
    },
    "kernelspec": {
      "name": "python3",
      "display_name": "Python 3"
    },
    "language_info": {
      "name": "python"
    }
  },
  "cells": [
    {
      "cell_type": "markdown",
      "source": [
        "# New Section"
      ],
      "metadata": {
        "id": "v30Q8Ua_BeGV"
      }
    },
    {
      "cell_type": "code",
      "source": [
        "\n",
        "from collections import deque\n",
        "\n",
        "pakistan_cities = {\n",
        "    'Gujrat': ['Faisalabad'],\n",
        "    'Faisalabad': ['Gujrat', 'Swat'],\n",
        "    'Swat': ['Hunza', 'Mansehra', 'Peshawar'],\n",
        "    'Hunza': ['Swat', 'Mansehra'],\n",
        "    'Abbottabad': ['Hunza'],\n",
        "    'Mansehra': ['Swat', 'Islamabad'],\n",
        "    'Islamabad': ['Faisalabad', 'Peshawar'],\n",
        "    'Peshawar': ['Islamabad']\n",
        "}\n",
        "\n",
        "def bfs_shortest_path(graph, start, goal):\n",
        "    queue = deque([[start]])\n",
        "    visited = set()\n",
        "\n",
        "    while queue:\n",
        "        path = queue.popleft()\n",
        "        current_city = path[-1]\n",
        "\n",
        "        if current_city == goal:\n",
        "            return path\n",
        "\n",
        "        if current_city not in visited:\n",
        "            visited.add(current_city)\n",
        "            for neighbor in graph.get(current_city, []):\n",
        "                new_path = list(path)\n",
        "                new_path.append(neighbor)\n",
        "                queue.append(new_path)\n",
        "    return None\n",
        "\n",
        "def dfs_path(graph, start, goal, path=None, visited=None):\n",
        "    if path is None:\n",
        "        path = []\n",
        "    if visited is None:\n",
        "        visited = set()\n",
        "\n",
        "    path.append(start)\n",
        "    visited.add(start)\n",
        "\n",
        "    if start == goal:\n",
        "        return path\n",
        "\n",
        "    for neighbor in graph.get(start, []):\n",
        "        if neighbor not in visited:\n",
        "            result = dfs_path(graph, neighbor, goal, path.copy(), visited.copy())\n",
        "            if result:\n",
        "                return result\n",
        "\n",
        "    return None\n",
        "\n",
        "if __name__ == \"__main__\":\n",
        "    start_city = \"Gujrat\"\n",
        "    goal_city = \"Peshawar\"\n",
        "\n",
        "    bfs_result = bfs_shortest_path(pakistan_cities, start_city, goal_city)\n",
        "    print(\"BFS Shortest Path from Gujrat to Peshawar:\", bfs_result)\n",
        "\n",
        "    dfs_result = dfs_path(pakistan_cities, start_city, goal_city)\n",
        "    print(\"DFS Path from Gujrat to Peshawar:\", dfs_result)\n"
      ],
      "metadata": {
        "id": "8roQDa8KBiDs",
        "colab": {
          "base_uri": "https://localhost:8080/"
        },
        "outputId": "892a91e5-11fd-4e78-e8c0-f9dd073afafb"
      },
      "execution_count": 2,
      "outputs": [
        {
          "output_type": "stream",
          "name": "stdout",
          "text": [
            "BFS Shortest Path from Gujrat to Peshawar: ['Gujrat', 'Faisalabad', 'Swat', 'Peshawar']\n",
            "DFS Path from Gujrat to Peshawar: ['Gujrat', 'Faisalabad', 'Swat', 'Hunza', 'Mansehra', 'Islamabad', 'Peshawar']\n"
          ]
        }
      ]
    }
  ]
}