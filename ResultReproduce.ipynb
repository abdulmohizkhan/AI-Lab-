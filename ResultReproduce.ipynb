{
  "nbformat": 4,
  "nbformat_minor": 0,
  "metadata": {
    "colab": {
      "provenance": [],
      "toc_visible": true
    },
    "kernelspec": {
      "name": "python3",
      "display_name": "Python 3"
    },
    "language_info": {
      "name": "python"
    }
  },
  "cells": [
    {
      "cell_type": "code",
      "execution_count": null,
      "metadata": {
        "id": "XYsWb0MwSxSJ"
      },
      "outputs": [],
      "source": []
    },
    {
      "cell_type": "markdown",
      "source": [
        "# **Numpy**"
      ],
      "metadata": {
        "id": "kNL7RGtGS3Jy"
      }
    },
    {
      "cell_type": "code",
      "source": [
        "import numpy as np\n",
        "\n",
        "# Create 1D array\n",
        "arr = np.arange(1, 21)\n",
        "print('1D Array:', arr)\n",
        "\n",
        "# Reshape to 4x5 matrix\n",
        "matrix = arr.reshape(4, 5)\n",
        "print('4x5 Matrix:\\n', matrix)\n",
        "\n",
        "# Mean, Median, Std\n",
        "print('Mean:', np.mean(arr))\n",
        "print('Median:', np.median(arr))\n",
        "print('Standard Deviation:', np.std(arr))\n",
        "\n",
        "# Element-wise operations\n",
        "arr2 = np.arange(21, 41)\n",
        "print('Addition:', arr + arr2)\n",
        "print('Multiplication:', arr * arr2)\n"
      ],
      "metadata": {
        "id": "3MtN57fBTCHS"
      },
      "execution_count": null,
      "outputs": []
    },
    {
      "cell_type": "markdown",
      "source": [
        "# **Matpolib**"
      ],
      "metadata": {
        "id": "HvC2DapQTWgS"
      }
    },
    {
      "cell_type": "code",
      "source": [
        "\n",
        "import matplotlib.pyplot as plt\n",
        "\n",
        "# Line Plot\n",
        "x = list(range(1, 11))\n",
        "y = [i**2 for i in x]\n",
        "plt.plot(x, y)\n",
        "plt.title('Numbers vs Squares')\n",
        "plt.xlabel('Numbers')\n",
        "plt.ylabel('Squares')\n",
        "plt.show()\n",
        "\n",
        "# Bar Chart\n",
        "students = ['Ali', 'Sara', 'Ahmed', 'Zara', 'Omar']\n",
        "marks = [85, 90, 78, 92, 88]\n",
        "plt.bar(students, marks)\n",
        "plt.title('Student Marks')\n",
        "plt.xlabel('Students')\n",
        "plt.ylabel('Marks')\n",
        "plt.show()\n",
        "\n",
        "# Pie Chart\n",
        "categories = ['Category A', 'Category B', 'Category C']\n",
        "values = [30, 50, 20]\n",
        "plt.pie(values, labels=categories, autopct='%1.1f%%')\n",
        "plt.title('Category Distribution')\n",
        "plt.show()"
      ],
      "metadata": {
        "id": "LIspXKX3TiNp"
      },
      "execution_count": null,
      "outputs": []
    }
  ]
}