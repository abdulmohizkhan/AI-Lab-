{
  "nbformat": 4,
  "nbformat_minor": 0,
  "metadata": {
    "colab": {
      "provenance": [],
      "toc_visible": true,
      "gpuType": "T4"
    },
    "kernelspec": {
      "name": "python3",
      "display_name": "Python 3"
    },
    "language_info": {
      "name": "python"
    },
    "accelerator": "GPU"
  },
  "cells": [
    {
      "cell_type": "markdown",
      "source": [
        "# KNN"
      ],
      "metadata": {
        "id": "BmpUupI8QBn7"
      }
    },
    {
      "cell_type": "code",
      "source": [
        "# Import required libraries\n",
        "from sklearn.datasets import load_iris\n",
        "from sklearn.model_selection import train_test_split\n",
        "from sklearn.neighbors import KNeighborsClassifier\n",
        "from sklearn.metrics import accuracy_score\n",
        "\n",
        "# Step 1: Load dataset\n",
        "data = load_iris()         # Load the Iris dataset\n",
        "X = data.data              # Features (inputs)\n",
        "y = data.target            # Labels (outputs)\n",
        "\n",
        "# Step 2: Split data into training and testing sets (80% train, 20% test)\n",
        "X_train, X_test, y_train, y_test = train_test_split(\n",
        "    X, y, test_size=0.2,random_state = 65\n",
        ")\n",
        "\n",
        "# Step 3: Initialize and train the KNN classifier\n",
        "knn = KNeighborsClassifier(n_neighbors=35)\n",
        "knn.fit(X_train, y_train)\n",
        "\n",
        "# Step 4: Make predictions\n",
        "y_pred = knn.predict(X_test)\n",
        "\n",
        "# Step 5: Evaluate accuracy\n",
        "accuracy = accuracy_score(y_test, y_pred)\n",
        "print(f\"Model accuracy: {accuracy:.2f}\")\n",
        "\n",
        "# Step 6: Evaluate accuracy for both\n",
        "y_train_pred = knn.predict(X_train) # Predict on training data\n",
        "test_accuracy = accuracy_score(y_test, y_pred) # Corrected variable name\n",
        "train_accuracy = accuracy_score(y_train, y_train_pred)\n",
        "\n",
        "\n",
        "# Step 7: Print the results\n",
        "print(\"Training Accuracy:\", train_accuracy)\n",
        "print(\"Testing Accuracy:\", test_accuracy)"
      ],
      "metadata": {
        "colab": {
          "base_uri": "https://localhost:8080/"
        },
        "id": "EW7AeGr6QFX6",
        "outputId": "4ee21ef2-d17d-41d5-cf53-502629ae7e4d"
      },
      "execution_count": null,
      "outputs": [
        {
          "output_type": "stream",
          "name": "stdout",
          "text": [
            "Model accuracy: 0.87\n",
            "Training Accuracy: 0.975\n",
            "Testing Accuracy: 0.8666666666666667\n"
          ]
        }
      ]
    }
  ]
}