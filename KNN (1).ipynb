{
  "nbformat": 4,
  "nbformat_minor": 0,
  "metadata": {
    "colab": {
      "provenance": [],
      "toc_visible": true,
      "gpuType": "T4"
    },
    "kernelspec": {
      "name": "python3",
      "display_name": "Python 3"
    },
    "language_info": {
      "name": "python"
    },
    "accelerator": "GPU"
  },
  "cells": [
    {
      "cell_type": "markdown",
      "source": [
        "# KNN"
      ],
      "metadata": {
        "id": "BmpUupI8QBn7"
      }
    },
    {
      "cell_type": "code",
      "source": [
        "# Import required libraries\n",
        "from sklearn.model_selection import train_test_split\n",
        "from sklearn.neighbors import KNeighborsClassifier\n",
        "from sklearn.metrics import accuracy_score\n",
        "import pandas as pd # Import pandas to read the CSV file\n",
        "\n",
        "# Step 1: Load dataset\n",
        "# Assuming your CSV file has features in all columns except the last one, which is the target\n",
        "df = pd.read_csv(\"/content/drive/MyDrive/students_knn (1).csv\") # Load the dataset from the provided path\n",
        "X = df.iloc[:, :-1] # Features (inputs) - all columns except the last one\n",
        "y = df.iloc[:, -1] # Labels (outputs) - the last column\n",
        "\n",
        "# Remove non-numeric columns that are causing the ValueError\n",
        "X = X.drop(['Name', 'Roll No', 'Email'], axis=1)\n",
        "\n",
        "# Based on the new dataset, these columns are not present and were causing the KeyError.\n",
        "# Removing the one-hot encoding for these columns.\n",
        "# categorical_cols = ['proto', 'saddr', 'daddr', 'category']\n",
        "# X = pd.get_dummies(X, columns=categorical_cols, drop_first=True)\n",
        "\n",
        "# Convert any boolean columns to integers (0 or 1)\n",
        "for col in X.columns:\n",
        "    if X[col].dtype == 'bool':\n",
        "        X[col] = X[col].astype(int)\n",
        "\n",
        "# Convert 'sport' and 'dport' to numeric, handling errors\n",
        "# Based on the new dataset, these columns are not present. Removing the conversion.\n",
        "# X['sport'] = pd.to_numeric(X['sport'], errors='coerce').fillna(0).astype(int)\n",
        "# X['dport'] = pd.to_numeric(X['dport'], errors='coerce').fillna(0).astype(int)\n",
        "\n",
        "\n",
        "# Step 2: Split data into training and testing sets\n",
        "X_train, X_test, y_train, y_test = train_test_split(\n",
        "    X, y, test_size=0.2,random_state = 65\n",
        ")\n",
        "\n",
        "# Step 3: Initialize and train the KNN classifier\n",
        "knn = KNeighborsClassifier(n_neighbors=35)\n",
        "knn.fit(X_train, y_train)\n",
        "\n",
        "# Step 4: Make predictions\n",
        "y_pred = knn.predict(X_test)\n",
        "\n",
        "# Step 5: Evaluate accuracy\n",
        "accuracy = accuracy_score(y_test, y_pred)\n",
        "print(f\"Model accuracy: {accuracy:.2f}\")\n",
        "\n",
        "# Step 6: Evaluate accuracy for both\n",
        "y_train_pred = knn.predict(X_train) # Predict on training data\n",
        "test_accuracy = accuracy_score(y_test, y_pred) # Corrected variable name\n",
        "train_accuracy = accuracy_score(y_train, y_train_pred)\n",
        "\n",
        "\n",
        "# Step 7: Print the results\n",
        "print(\"Training Accuracy:\", train_accuracy)\n",
        "print(\"Testing Accuracy:\", test_accuracy)"
      ],
      "metadata": {
        "colab": {
          "base_uri": "https://localhost:8080/"
        },
        "id": "EW7AeGr6QFX6",
        "outputId": "2260bb5a-60fb-488f-824d-4ef797f2ca1a"
      },
      "execution_count": 9,
      "outputs": [
        {
          "output_type": "stream",
          "name": "stdout",
          "text": [
            "Model accuracy: 0.90\n",
            "Training Accuracy: 0.9\n",
            "Testing Accuracy: 0.9\n"
          ]
        }
      ]
    },
    {
      "cell_type": "code",
      "source": [
        "from google.colab import drive\n",
        "drive.mount('/content/drive')"
      ],
      "metadata": {
        "colab": {
          "base_uri": "https://localhost:8080/"
        },
        "id": "sXDpfYuAk734",
        "outputId": "3f9f48b2-8a0d-4c92-ebb5-df5769e32301"
      },
      "execution_count": 1,
      "outputs": [
        {
          "output_type": "stream",
          "name": "stdout",
          "text": [
            "Mounted at /content/drive\n"
          ]
        }
      ]
    },
    {
      "cell_type": "markdown",
      "metadata": {
        "id": "09016d60"
      },
      "source": [
        "# Task\n",
        "Implement and evaluate a KNN model on the dataset provided at \"/content/drive/MyDrive/students_knn (1).csv\", addressing any data type issues and reproducing the results."
      ]
    },
    {
      "cell_type": "markdown",
      "metadata": {
        "id": "6d0115e6"
      },
      "source": [
        "## Evaluate other metrics\n",
        "\n",
        "### Subtask:\n",
        "Calculate and display additional classification metrics like precision, recall, F1-score, and a confusion matrix.\n"
      ]
    },
    {
      "cell_type": "markdown",
      "metadata": {
        "id": "f1fbd834"
      },
      "source": [
        "**Reasoning**:\n",
        "Calculate and display additional classification metrics as requested by the subtask.\n",
        "\n"
      ]
    },
    {
      "cell_type": "code",
      "metadata": {
        "colab": {
          "base_uri": "https://localhost:8080/"
        },
        "id": "e12bdd02",
        "outputId": "0ab7b1b4-3fd2-437f-8a0e-a3d1147b3a4d"
      },
      "source": [
        "from sklearn.metrics import classification_report, confusion_matrix\n",
        "\n",
        "# Calculate and print classification report\n",
        "print(classification_report(y_test, y_pred))\n",
        "\n",
        "# Calculate and print confusion matrix\n",
        "print(confusion_matrix(y_test, y_pred))"
      ],
      "execution_count": 4,
      "outputs": [
        {
          "output_type": "stream",
          "name": "stdout",
          "text": [
            "              precision    recall  f1-score   support\n",
            "\n",
            "           0       0.00      0.00      0.00         1\n",
            "           1       0.90      1.00      0.95         9\n",
            "\n",
            "    accuracy                           0.90        10\n",
            "   macro avg       0.45      0.50      0.47        10\n",
            "weighted avg       0.81      0.90      0.85        10\n",
            "\n",
            "[[0 1]\n",
            " [0 9]]\n"
          ]
        },
        {
          "output_type": "stream",
          "name": "stderr",
          "text": [
            "/usr/local/lib/python3.12/dist-packages/sklearn/metrics/_classification.py:1565: UndefinedMetricWarning: Precision is ill-defined and being set to 0.0 in labels with no predicted samples. Use `zero_division` parameter to control this behavior.\n",
            "  _warn_prf(average, modifier, f\"{metric.capitalize()} is\", len(result))\n",
            "/usr/local/lib/python3.12/dist-packages/sklearn/metrics/_classification.py:1565: UndefinedMetricWarning: Precision is ill-defined and being set to 0.0 in labels with no predicted samples. Use `zero_division` parameter to control this behavior.\n",
            "  _warn_prf(average, modifier, f\"{metric.capitalize()} is\", len(result))\n",
            "/usr/local/lib/python3.12/dist-packages/sklearn/metrics/_classification.py:1565: UndefinedMetricWarning: Precision is ill-defined and being set to 0.0 in labels with no predicted samples. Use `zero_division` parameter to control this behavior.\n",
            "  _warn_prf(average, modifier, f\"{metric.capitalize()} is\", len(result))\n"
          ]
        }
      ]
    },
    {
      "cell_type": "markdown",
      "metadata": {
        "id": "6e822001"
      },
      "source": [
        "## Tune hyperparameters\n",
        "\n",
        "### Subtask:\n",
        "Use techniques like cross-validation and GridSearchCV to find the best value for `n_neighbors`.\n"
      ]
    },
    {
      "cell_type": "markdown",
      "metadata": {
        "id": "2f2b8a90"
      },
      "source": [
        "**Reasoning**:\n",
        "Import necessary modules for GridSearchCV and cross-validation.\n",
        "\n"
      ]
    },
    {
      "cell_type": "code",
      "metadata": {
        "id": "abf0a6ac"
      },
      "source": [
        "from sklearn.model_selection import GridSearchCV, StratifiedKFold"
      ],
      "execution_count": 5,
      "outputs": []
    },
    {
      "cell_type": "markdown",
      "metadata": {
        "id": "7cbabdab"
      },
      "source": [
        "**Reasoning**:\n",
        "Define the parameter grid, initialize StratifiedKFold, and initialize GridSearchCV with the KNN classifier and defined parameters, then fit the GridSearchCV to the training data and print the best parameters and score.\n",
        "\n"
      ]
    },
    {
      "cell_type": "code",
      "metadata": {
        "colab": {
          "base_uri": "https://localhost:8080/"
        },
        "id": "b748f874",
        "outputId": "8ff6c46e-6c45-427d-a01b-a61243f12139"
      },
      "source": [
        "# Create a parameter grid for n_neighbors\n",
        "param_grid = {'n_neighbors': list(range(1, 31))}\n",
        "\n",
        "# Initialize StratifiedKFold\n",
        "kf = StratifiedKFold(n_splits=5, shuffle=True, random_state=42)\n",
        "\n",
        "# Initialize GridSearchCV\n",
        "grid_search = GridSearchCV(estimator=KNeighborsClassifier(), param_grid=param_grid, cv=kf, scoring='accuracy')\n",
        "\n",
        "# Fit GridSearchCV to the training data\n",
        "grid_search.fit(X_train, y_train)\n",
        "\n",
        "# Print the best value of n_neighbors\n",
        "print(f\"Best n_neighbors: {grid_search.best_params_['n_neighbors']}\")\n",
        "\n",
        "# Print the corresponding best cross-validation score\n",
        "print(f\"Best cross-validation accuracy: {grid_search.best_score_:.2f}\")"
      ],
      "execution_count": 6,
      "outputs": [
        {
          "output_type": "stream",
          "name": "stderr",
          "text": [
            "/usr/local/lib/python3.12/dist-packages/sklearn/model_selection/_split.py:805: UserWarning: The least populated class in y has only 4 members, which is less than n_splits=5.\n",
            "  warnings.warn(\n"
          ]
        },
        {
          "output_type": "stream",
          "name": "stdout",
          "text": [
            "Best n_neighbors: 1\n",
            "Best cross-validation accuracy: 1.00\n"
          ]
        }
      ]
    },
    {
      "cell_type": "markdown",
      "metadata": {
        "id": "04f1bc91"
      },
      "source": [
        "## Save the model\n",
        "\n",
        "### Subtask:\n",
        "Save the trained KNN model to a file so you can load it later without retraining.\n"
      ]
    },
    {
      "cell_type": "markdown",
      "metadata": {
        "id": "15b6473c"
      },
      "source": [
        "**Reasoning**:\n",
        "Import the joblib library to save the trained model.\n",
        "\n"
      ]
    },
    {
      "cell_type": "code",
      "metadata": {
        "id": "44d01ea7"
      },
      "source": [
        "import joblib"
      ],
      "execution_count": 7,
      "outputs": []
    },
    {
      "cell_type": "markdown",
      "metadata": {
        "id": "e9a51eee"
      },
      "source": [
        "**Reasoning**:\n",
        "Save the trained KNN model to a file and print a confirmation message.\n",
        "\n"
      ]
    },
    {
      "cell_type": "code",
      "metadata": {
        "colab": {
          "base_uri": "https://localhost:8080/"
        },
        "id": "7ffb5b38",
        "outputId": "d3dd6d1d-e1af-4af8-93db-e48ce08869ba"
      },
      "source": [
        "joblib.dump(knn, 'knn_model.pkl')\n",
        "print(\"Trained KNN model saved to knn_model.pkl\")"
      ],
      "execution_count": 8,
      "outputs": [
        {
          "output_type": "stream",
          "name": "stdout",
          "text": [
            "Trained KNN model saved to knn_model.pkl\n"
          ]
        }
      ]
    },
    {
      "cell_type": "markdown",
      "metadata": {
        "id": "b5abfcb7"
      },
      "source": [
        "## Summary:\n",
        "\n",
        "### Data Analysis Key Findings\n",
        "\n",
        "*   The initial KNN model evaluation showed a perfect accuracy of 1.0 for class 1 but failed to predict any instances of class 0, resulting in undefined precision for class 0. The confusion matrix indicated that all 9 instances of class 1 were correctly predicted, while the single instance of class 0 was misclassified.\n",
        "*   The dataset exhibits class imbalance, with the least populated class having only 4 members, which is less than the 5 splits used in StratifiedKFold cross-validation.\n",
        "*   Hyperparameter tuning using GridSearchCV with StratifiedKFold identified `n_neighbors = 1` as the best parameter for the KNN model, achieving a perfect cross-validation accuracy of 1.00.\n",
        "*   The trained KNN model was successfully saved to a file named `knn_model.pkl` using the `joblib` library.\n",
        "\n",
        "### Insights or Next Steps\n",
        "\n",
        "*   The perfect accuracy achieved with `n_neighbors=1` and the class imbalance suggest potential overfitting or data separation issues. Further investigation into the dataset and model validation is necessary.\n",
        "*   Consider implementing techniques to address the class imbalance, such as oversampling the minority class or using evaluation metrics less sensitive to imbalance, before finalizing the model.\n"
      ]
    }
  ]
}